{
 "cells": [
  {
   "cell_type": "markdown",
   "metadata": {},
   "source": [
    "# SQL"
   ]
  },
  {
   "cell_type": "markdown",
   "metadata": {},
   "source": [
    "SQL is a language used for relational databases to query or get data out of a database. SQL is short for its original name Structured English Query Language.\n",
    "\n",
    "SQL is a language used for a database to query data. \n",
    "\n",
    "## Data\n",
    "\n",
    "Data is a collection of facts in the form of words, numbers, or even pictures. Data is one of the most critical assets of any business. Data is important; so, it needs to be secure, and its stored and accessed quickly in database. \n",
    "\n",
    "## Database\n",
    "\n",
    "Database is a repository of data, is a program that stores data. A database also provides the functionality for adding, modifying, and querying that data. The data can be stored in various forms:\n",
    "\n",
    "- **Relational database:** When data is stored in tabular form, in columns and rows, the data is organized in tables and relations can be form between tables. \n",
    "\n",
    "    A table is a collection of related things where each column contains properties about the item.  \n",
    "    \n",
    "Database management system or DBMSA is a set of software tools for the data in the database. The terms database, database server, database system, data server, and database management systems are often used interchangeably. \n",
    "\n",
    "A relational database management system or RDBMS is a set of software tools that controls the data such as access, organization, and storage. And RDBMS serves as the backbone of applications in many industries. \n",
    "\n",
    "There are five SQL simple commands: \n",
    "\n",
    "1. Create a table\n",
    "2. Insert data to populate the table\n",
    "3. Select data from the table\n",
    "4. Update data in the table\n",
    "5. Delete data from the table. \n",
    "\n",
    "These statements fall into two different categories: \n",
    "\n",
    "- Data Definition language statements or DDL are used to define, change, or drop data.\n",
    "\n",
    "- Data Manipulation language statements. Data definition language DML statements are used to read and modify data."
   ]
  },
  {
   "cell_type": "markdown",
   "metadata": {},
   "source": [
    "## Cloud Database \n",
    "\n",
    "A cloud database is a database service built and accessed through a cloud platform. It serves many of the same functions as traditional databases with the added flexibility of cloud computing. Users install software on a cloud infrastructure to implement the database. \n",
    "\n",
    "The Advantages of using cloud databases are:\n",
    "\n",
    "1. **Ease of use:** Users can access cloud databases from virtually anywhere using a vendors API or web interface. \n",
    "2. **Scalability:** Cloud databases can expand their storage capacities during runtime to accommodate changing needs.\n",
    "3. **Disaster recovery:** In the event of a natural disaster equipment failure or power outage data is kept secure through backups on remote servers.\n",
    "\n",
    "Database services are logical abstractions for managing workloads in a database. Each service represents a workload with common attributes, service level thresholds, and priorities. \n",
    "\n",
    "The grouping is based on attributes of work that might include the application function to be used, the priority of execution for the application function, the job class to be managed or the data range used in the application function or job class. \n",
    "\n",
    "An instance of the cloud database operates as a service that handles all application requests to work with the data and any of the databases managed by that instance."
   ]
  },
  {
   "cell_type": "markdown",
   "metadata": {},
   "source": [
    "##  Create Table Statement"
   ]
  },
  {
   "cell_type": "markdown",
   "metadata": {},
   "source": [
    "In a relational database, the data is organized in tables, which is columns and rows. The primary key of a relational table uniquely identifies each tuple or row in a table. The CREATE TABLE statement is one of the data definition language statements. \n",
    "\n",
    "Data definition language statements or DDL statements are used to create database objects."
   ]
  },
  {
   "cell_type": "markdown",
   "metadata": {},
   "source": [
    "create table TEST (ID integer, NAME varchar(30));"
   ]
  },
  {
   "cell_type": "markdown",
   "metadata": {},
   "source": [
    "create table COUNTRY (ID int, CCODE char(2), NAME varchar(60));\n",
    "create table COUNTRY (ID int NOT NULL, CCODE char(2), NAME varchar(60), PRIMARY KEY(ID));\n"
   ]
  },
  {
   "cell_type": "markdown",
   "metadata": {},
   "source": [
    "## SELECT Statement"
   ]
  },
  {
   "cell_type": "markdown",
   "metadata": {},
   "source": [
    "The main purpose of a database management system, is not just to store the data but also facilitate retrieval of the data. So, after creating a relational database table and inserting data into the table, we want to see the data. To see the data, we use the SELECT statement. \n",
    "\n",
    "The SELECT statement is a data manipulation language statement. The SELECT statement is called a **query**, and the output we get from executing this query is called a **result set** or a **result table.** In its simplest form, a SELECT statement is select star from table name. \n",
    "\n",
    "Relational operation helps us in restricting the result set by allowing us to use the clause WHERE. The WHERE clause always requires a predicate. A predicate is conditioned evaluates to true, false or unknown. Predicates are used in the search condition of the WHERE clause.\n",
    "\n",
    "There are other comparison operators supported by a relational database management system: equal to, greater than, less than, greater than or equal to, less than or equal to, and not equal to."
   ]
  },
  {
   "cell_type": "markdown",
   "metadata": {},
   "source": [
    "select COLUMN1, COLUMN2, ... from TABLE1 ;\n",
    "expl.\n",
    "\n",
    "- select ID, NAME from COUNTRY ; retrieve a list of country names and their IDS from Country table.\n",
    "\n",
    "- select * from COUNTRY ; retrieve all columns from country table.\n",
    "\n",
    "- select * from COUNTRY where ID < 5 ; retrieve all data for rows in country table **where** ID is less than 5.\n",
    "\n"
   ]
  },
  {
   "cell_type": "markdown",
   "metadata": {},
   "source": [
    "The main purpose of a database management system is not just to store the data, but also facilitate retrieval of the data. \n",
    "\n",
    "In a relational database, we can use string patterns to search data rows that match this condition. \n",
    "\n",
    "- The like predicate is used in a WHERE clause to search for a pattern in a column. The percent sign is used to define missing letters. The percent sign can be placed before the pattern, after the pattern, or both before and after the pattern. The percent sign is called a wildcard character. A wildcard character is used to substitute other characters. \n",
    "\n",
    "- In a relational database, we can use a range of numbers to specify the same condition. we use the comparison operator 'between and.' 'Between and' compares two values. The values in the range are inclusive. \n",
    "\n",
    "- In some cases, there are data values that cannot be grouped under ranges. we can use the IN operator. The IN operator allows us to specify a set of values in a WHERE clause.\n",
    "\n",
    "### Order By clause\n",
    "\n",
    "we use the \"order by\" clause. To display the result set in alphabetical order, we add the order by clause to the select statement. The order by clause is used in a query to sort the result set by a specified column. \n",
    "\n",
    "To sort in descending order, use the key word\" desc.\" The result set is now sorted according to the column specified and is sorted in descending order. \n",
    "\n",
    "Another way of specifying the sort column is to indicate the column sequence number."
   ]
  },
  {
   "cell_type": "markdown",
   "metadata": {},
   "source": [
    "### COUNT, DISTINCT, LIMIT in select statement"
   ]
  },
  {
   "cell_type": "markdown",
   "metadata": {},
   "source": [
    "- **COUNT** is a built-in database function that retrieves the number of rows that match the query criteria. For example, get the total number of rows in a given table, select COUNT(*) from tablename. \n",
    "    \n",
    "- **DISTINCT** is used to remove duplicate values from a result set. Example, to retrieve unique values in a column, select DISTINCT columnname from tablename. \n",
    "\n",
    "- **LIMIT** is used for restricting the number of rows retrieved from the database. Example, retrieve just the first 10 rows in a table. Select * from tablename LIMIT 10. This can be very useful to examine the results set by looking at just a few rows instead of retrieving the entire result set which may be very large."
   ]
  },
  {
   "cell_type": "markdown",
   "metadata": {},
   "source": [
    "At times, a select statement result set can contain duplicate values. Using the keyword \"distinct\" reduces the result to non duplicate values. \n",
    "\n",
    "The \"group by\" clause groups a result into subsets that has matching values for one or more columns. \n",
    "The \"having\" clause is used in combination with the \"group by\" clause. It is very important to note that the \"where\" clause is for the entire result set, but the \"having\" clause works only with the \"group by\" clause."
   ]
  },
  {
   "cell_type": "markdown",
   "metadata": {},
   "source": [
    "## INSERT Statement"
   ]
  },
  {
   "cell_type": "markdown",
   "metadata": {},
   "source": [
    "The INSERT statement is used to add new rows to a table. The INSERT statement is one of the data manipulation language statements. The syntax of the INSERT statement looks like this, insert into table name, column name, values. \n",
    "\n",
    "In this statement, table name identifies the table, the column name list identifies each column in the table, and the values clause specifies the data values to be added to the columns in the table. \n",
    "\n",
    "It is important that the number of values provided in the values clause is equal to the number of column names specified in the column name list. This ensures that each column has a value.\n",
    "\n",
    "Tables do not need to be populated one row at a time, multiple rows can be inserted by specifying each row in the values clause. In the values clause, each row is separated by a comma."
   ]
  },
  {
   "cell_type": "markdown",
   "metadata": {},
   "source": [
    "## UPDATE and DELETE Statements"
   ]
  },
  {
   "cell_type": "markdown",
   "metadata": {},
   "source": [
    "After a table is created and populated with data, the data in a table can be altered with the UPDATE statement. \n",
    "\n",
    "The UPDATE statement is one of the data manipulation language or DML statements. \n",
    "\n",
    "The syntax of the UPDATE statement looks like this, UPDATE [TableName] SET [ColumnName] = [Value] ]> <WHERE [Condition] >. In the statement, TableName identifies the table. The ColumnName identifies the column value to be changed, as specified in the <WHERE [Condition] >. \n",
    "\n",
    "The DELETE statement is one of the data manipulation language statements used to read and modify data. \n",
    "\n",
    "The syntax of the DELETE statement looks like this, DELETE FROM [TABLEName] <WHERE [Condition] >. The rows to be removed are specified in the WHERE condition."
   ]
  },
  {
   "cell_type": "markdown",
   "metadata": {},
   "source": [
    "## Information Model and Data Models"
   ]
  },
  {
   "cell_type": "markdown",
   "metadata": {},
   "source": [
    "Information models and data models are different and serve different purposes. \n",
    "\n",
    "- **An information model** is an abstract formal representation of entities that includes their properties, relationships, and the operations that can be performed on them.\n",
    "\n",
    "    An information model is at the conceptual level and defines relationships between objects. \n",
    "\n",
    "- **Data models** are defined in a more concrete level, are specific, and include details. \n",
    "\n",
    "    A data model is the blueprint of any database system. There are several types of information models. The most familiar is the hierarchical, typically used to show organization charts. \n",
    "\n",
    "### Relational model and Entity-Relationship model\n",
    "\n",
    " - **The relational model** is the most used data model for databases, because this model allows for data independence. Data is stored in simple data structure tables. This provides logical data independence, physical data independence, and physical storage independence. \n",
    "\n",
    "- **An entity-relationship data model** or ER data model, is an alternative to a relational data model. An entity-relationship model proposes thinking of a database as a collection of entities, rather than being used as a model on its own. \n",
    "\n",
    "    The ER model is used as a tool to design relational databases. In the ER model, entities are objects that exist independently of any other entities in the database. It is simple to convert an ER diagram into a collection of tables. \n",
    "    \n",
    "    The building blocks of an ER diagram are entities and attributes. Entities have attributes, which are the data elements that characterize the entity. Attributes tell us more about the entity. In an ER diagram, an entity is drawn as a rectangle, and attributes are drawn as ovals. Entities can be a noun, person, place, or thing. Attributes are connected to exactly one entity."
   ]
  }
 ],
 "metadata": {
  "kernelspec": {
   "display_name": "Python 3",
   "language": "python",
   "name": "python3"
  },
  "language_info": {
   "codemirror_mode": {
    "name": "ipython",
    "version": 3
   },
   "file_extension": ".py",
   "mimetype": "text/x-python",
   "name": "python",
   "nbconvert_exporter": "python",
   "pygments_lexer": "ipython3",
   "version": "3.7.1"
  }
 },
 "nbformat": 4,
 "nbformat_minor": 4
}
